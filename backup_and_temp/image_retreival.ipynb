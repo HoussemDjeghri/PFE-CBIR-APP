{
  "nbformat": 4,
  "nbformat_minor": 0,
  "metadata": {
    "colab": {
      "name": "image_retreival.ipynb",
      "provenance": [],
      "collapsed_sections": []
    },
    "kernelspec": {
      "name": "python3",
      "display_name": "Python 3.9.5 64-bit"
    },
    "language_info": {
      "name": "python",
      "version": "3.9.5"
    },
    "interpreter": {
      "hash": "324e240ea573fd3d8056e12ea70d483238364e9b42112e18bb174b35d8d396b2"
    }
  },
  "cells": [
    {
      "cell_type": "code",
      "metadata": {
        "colab": {
          "base_uri": "https://localhost:8080/"
        },
        "id": "u2ZjtrKtnjvZ",
        "outputId": "b89faf01-f637-4f63-f837-56dcc5ff4651"
      },
      "source": [
        "import zipfile\n",
        "from google.colab import drive \n",
        "drive.mount('/content/gdrive') "
      ],
      "execution_count": null,
      "outputs": [
        {
          "output_type": "stream",
          "text": [
            "Drive already mounted at /content/gdrive; to attempt to forcibly remount, call drive.mount(\"/content/gdrive\", force_remount=True).\n"
          ],
          "name": "stdout"
        }
      ]
    },
    {
      "cell_type": "code",
      "metadata": {
        "colab": {
          "base_uri": "https://localhost:8080/"
        },
        "id": "TjIFsWdsn7Og",
        "outputId": "e199038f-9ce4-4cdf-e0d6-7701ca30b02e"
      },
      "source": [
        "!pip install flask-ngrok\n",
        "from flask_ngrok import run_with_ngrok"
      ],
      "execution_count": 4,
      "outputs": [
        {
          "output_type": "stream",
          "name": "stdout",
          "text": [
            "Requirement already satisfied: flask-ngrok in d:\\programs\\python\\lib\\site-packages (0.0.25)\n",
            "Requirement already satisfied: Flask>=0.8 in d:\\programs\\python\\lib\\site-packages (from flask-ngrok) (2.0.1)\n",
            "Requirement already satisfied: requests in d:\\programs\\python\\lib\\site-packages (from flask-ngrok) (2.25.1)\n",
            "Requirement already satisfied: itsdangerous>=2.0 in d:\\programs\\python\\lib\\site-packages (from Flask>=0.8->flask-ngrok) (2.0.1)\n",
            "Requirement already satisfied: click>=7.1.2 in d:\\programs\\python\\lib\\site-packages (from Flask>=0.8->flask-ngrok) (8.0.1)\n",
            "Requirement already satisfied: Werkzeug>=2.0 in d:\\programs\\python\\lib\\site-packages (from Flask>=0.8->flask-ngrok) (2.0.1)\n",
            "Requirement already satisfied: Jinja2>=3.0 in d:\\programs\\python\\lib\\site-packages (from Flask>=0.8->flask-ngrok) (3.0.1)\n",
            "Requirement already satisfied: colorama in d:\\programs\\python\\lib\\site-packages (from click>=7.1.2->Flask>=0.8->flask-ngrok) (0.4.4)\n",
            "Requirement already satisfied: MarkupSafe>=2.0 in d:\\programs\\python\\lib\\site-packages (from Jinja2>=3.0->Flask>=0.8->flask-ngrok) (2.0.1)\n",
            "Requirement already satisfied: idna<3,>=2.5 in d:\\programs\\python\\lib\\site-packages (from requests->flask-ngrok) (2.10)\n",
            "Requirement already satisfied: certifi>=2017.4.17 in d:\\programs\\python\\lib\\site-packages (from requests->flask-ngrok) (2021.5.30)\n",
            "Requirement already satisfied: urllib3<1.27,>=1.21.1 in d:\\programs\\python\\lib\\site-packages (from requests->flask-ngrok) (1.26.5)\n",
            "Requirement already satisfied: chardet<5,>=3.0.2 in d:\\programs\\python\\lib\\site-packages (from requests->flask-ngrok) (4.0.0)\n",
            "WARNING: Ignoring invalid distribution -ip (d:\\programs\\python\\lib\\site-packages)\n",
            "WARNING: Ignoring invalid distribution - (d:\\programs\\python\\lib\\site-packages)\n",
            "WARNING: Ignoring invalid distribution -ip (d:\\programs\\python\\lib\\site-packages)\n",
            "WARNING: Ignoring invalid distribution - (d:\\programs\\python\\lib\\site-packages)\n",
            "WARNING: Ignoring invalid distribution -ip (d:\\programs\\python\\lib\\site-packages)\n",
            "WARNING: Ignoring invalid distribution - (d:\\programs\\python\\lib\\site-packages)\n",
            "WARNING: Ignoring invalid distribution -ip (d:\\programs\\python\\lib\\site-packages)\n",
            "WARNING: Ignoring invalid distribution - (d:\\programs\\python\\lib\\site-packages)\n",
            "WARNING: Ignoring invalid distribution -ip (d:\\programs\\python\\lib\\site-packages)\n",
            "WARNING: Ignoring invalid distribution - (d:\\programs\\python\\lib\\site-packages)\n"
          ]
        }
      ]
    },
    {
      "cell_type": "code",
      "metadata": {
        "id": "bNNI7wz3nhwl"
      },
      "source": [
        "from logging import debug\n",
        "from flask import Flask, render_template, request, redirect, url_for\n",
        "from PIL import Image\n",
        "import os\n",
        "\n",
        "# creating an instance of a flask web application\n",
        "app = Flask(__name__)\n",
        "run_with_ngrok(app)\n",
        "app.static_folder = 'static'\n",
        "\n",
        "# UPLOAD_FOLDER = 'D:/Developement/PFE-APP/uploads/'\n",
        "# app.config['UPLOAD_FOLDER'] = UPLOAD_FOLDER\n",
        "\n",
        "QUERY_IMAGE_UPLOAD_FOLDER = 'D:/Developement/PFE-APP/static/uploads/QueryImage'\n",
        "DATASET_UPLOAD_FOLDER = 'D:/Developement/PFE-APP/static/uploads/Dataset'\n",
        "\n",
        "\n",
        "#Define the route \"how to access a specific page\"\n",
        "@app.route('/', methods=['GET'])\n",
        "def home_page():\n",
        "    return render_template('index.html')\n",
        "\n",
        "@app.route('/test', methods=['GET'])\n",
        "def test():\n",
        "    return'haha'\n",
        "\n",
        "#TODO add function to load train set\n",
        "#TODO add function to load test set\n",
        "\n",
        "#Uploading query image\n",
        "@app.route('/uploadQueryImage', methods=['POST'])\n",
        "def upload_image():\n",
        "    imagefile = request.files['imagefile']\n",
        "    image_path = QUERY_IMAGE_UPLOAD_FOLDER + imagefile.filename\n",
        "    imagefile = preprocessing(imagefile)\n",
        "    imagefile.save(image_path)\n",
        "    #redirect(url_for(\"extract_query_image_features\", image_path=image_path))\n",
        "    return redirect(url_for('home_page'))\n",
        "\n",
        "\n",
        "#Extracting query image features\n",
        "@app.route('/extractImageFeatures', methods=['POST'])\n",
        "def extract_query_image_features():\n",
        "    #TODO\n",
        "    return render_template('index.html')\n",
        "\n",
        "\n",
        "#Preprocessing image\n",
        "def preprocessing(image_path):\n",
        "    img = Image.open(image_path)\n",
        "    x, y = img.size\n",
        "    size = max(512, x, x)\n",
        "    new_im = Image.new('RGB', (size, size), (0, 0, 0))\n",
        "    new_im.paste(img, (int((size - x) / 2), int((size - y) / 2)))\n",
        "    return new_im\n",
        "\n",
        "\n",
        "#Running the app\n",
        "app.run()\n",
        "%tb"
      ],
      "execution_count": 5,
      "outputs": [
        {
          "output_type": "error",
          "ename": "AssertionError",
          "evalue": "View function mapping is overwriting an existing endpoint function: home_page",
          "traceback": [
            "\u001b[1;31m---------------------------------------------------------------------------\u001b[0m",
            "\u001b[1;31mAssertionError\u001b[0m                            Traceback (most recent call last)",
            "\u001b[1;32m<ipython-input-5-f138b26e63a4>\u001b[0m in \u001b[0;36m<module>\u001b[1;34m\u001b[0m\n\u001b[0;32m     22\u001b[0m \u001b[1;33m\u001b[0m\u001b[0m\n\u001b[0;32m     23\u001b[0m \u001b[1;33m@\u001b[0m\u001b[0mapp\u001b[0m\u001b[1;33m.\u001b[0m\u001b[0mroute\u001b[0m\u001b[1;33m(\u001b[0m\u001b[1;34m'/test'\u001b[0m\u001b[1;33m,\u001b[0m \u001b[0mmethods\u001b[0m\u001b[1;33m=\u001b[0m\u001b[1;33m[\u001b[0m\u001b[1;34m'GET'\u001b[0m\u001b[1;33m]\u001b[0m\u001b[1;33m)\u001b[0m\u001b[1;33m\u001b[0m\u001b[1;33m\u001b[0m\u001b[0m\n\u001b[1;32m---> 24\u001b[1;33m \u001b[1;32mdef\u001b[0m \u001b[0mhome_page\u001b[0m\u001b[1;33m(\u001b[0m\u001b[1;33m)\u001b[0m\u001b[1;33m:\u001b[0m\u001b[1;33m\u001b[0m\u001b[1;33m\u001b[0m\u001b[0m\n\u001b[0m\u001b[0;32m     25\u001b[0m     \u001b[1;32mreturn\u001b[0m\u001b[1;34m'haha'\u001b[0m\u001b[1;33m\u001b[0m\u001b[1;33m\u001b[0m\u001b[0m\n\u001b[0;32m     26\u001b[0m \u001b[1;33m\u001b[0m\u001b[0m\n",
            "\u001b[1;32mD:\\Programs\\Python\\lib\\site-packages\\flask\\scaffold.py\u001b[0m in \u001b[0;36mdecorator\u001b[1;34m(f)\u001b[0m\n\u001b[0;32m    433\u001b[0m         \u001b[1;32mdef\u001b[0m \u001b[0mdecorator\u001b[0m\u001b[1;33m(\u001b[0m\u001b[0mf\u001b[0m\u001b[1;33m:\u001b[0m \u001b[0mt\u001b[0m\u001b[1;33m.\u001b[0m\u001b[0mCallable\u001b[0m\u001b[1;33m)\u001b[0m \u001b[1;33m->\u001b[0m \u001b[0mt\u001b[0m\u001b[1;33m.\u001b[0m\u001b[0mCallable\u001b[0m\u001b[1;33m:\u001b[0m\u001b[1;33m\u001b[0m\u001b[1;33m\u001b[0m\u001b[0m\n\u001b[0;32m    434\u001b[0m             \u001b[0mendpoint\u001b[0m \u001b[1;33m=\u001b[0m \u001b[0moptions\u001b[0m\u001b[1;33m.\u001b[0m\u001b[0mpop\u001b[0m\u001b[1;33m(\u001b[0m\u001b[1;34m\"endpoint\"\u001b[0m\u001b[1;33m,\u001b[0m \u001b[1;32mNone\u001b[0m\u001b[1;33m)\u001b[0m\u001b[1;33m\u001b[0m\u001b[1;33m\u001b[0m\u001b[0m\n\u001b[1;32m--> 435\u001b[1;33m             \u001b[0mself\u001b[0m\u001b[1;33m.\u001b[0m\u001b[0madd_url_rule\u001b[0m\u001b[1;33m(\u001b[0m\u001b[0mrule\u001b[0m\u001b[1;33m,\u001b[0m \u001b[0mendpoint\u001b[0m\u001b[1;33m,\u001b[0m \u001b[0mf\u001b[0m\u001b[1;33m,\u001b[0m \u001b[1;33m**\u001b[0m\u001b[0moptions\u001b[0m\u001b[1;33m)\u001b[0m\u001b[1;33m\u001b[0m\u001b[1;33m\u001b[0m\u001b[0m\n\u001b[0m\u001b[0;32m    436\u001b[0m             \u001b[1;32mreturn\u001b[0m \u001b[0mf\u001b[0m\u001b[1;33m\u001b[0m\u001b[1;33m\u001b[0m\u001b[0m\n\u001b[0;32m    437\u001b[0m \u001b[1;33m\u001b[0m\u001b[0m\n",
            "\u001b[1;32mD:\\Programs\\Python\\lib\\site-packages\\flask\\scaffold.py\u001b[0m in \u001b[0;36mwrapper_func\u001b[1;34m(self, *args, **kwargs)\u001b[0m\n\u001b[0;32m     54\u001b[0m                 \u001b[1;34m\" requests.\"\u001b[0m\u001b[1;33m\u001b[0m\u001b[1;33m\u001b[0m\u001b[0m\n\u001b[0;32m     55\u001b[0m             )\n\u001b[1;32m---> 56\u001b[1;33m         \u001b[1;32mreturn\u001b[0m \u001b[0mf\u001b[0m\u001b[1;33m(\u001b[0m\u001b[0mself\u001b[0m\u001b[1;33m,\u001b[0m \u001b[1;33m*\u001b[0m\u001b[0margs\u001b[0m\u001b[1;33m,\u001b[0m \u001b[1;33m**\u001b[0m\u001b[0mkwargs\u001b[0m\u001b[1;33m)\u001b[0m\u001b[1;33m\u001b[0m\u001b[1;33m\u001b[0m\u001b[0m\n\u001b[0m\u001b[0;32m     57\u001b[0m \u001b[1;33m\u001b[0m\u001b[0m\n\u001b[0;32m     58\u001b[0m     \u001b[1;32mreturn\u001b[0m \u001b[0mt\u001b[0m\u001b[1;33m.\u001b[0m\u001b[0mcast\u001b[0m\u001b[1;33m(\u001b[0m\u001b[0mF\u001b[0m\u001b[1;33m,\u001b[0m \u001b[0mupdate_wrapper\u001b[0m\u001b[1;33m(\u001b[0m\u001b[0mwrapper_func\u001b[0m\u001b[1;33m,\u001b[0m \u001b[0mf\u001b[0m\u001b[1;33m)\u001b[0m\u001b[1;33m)\u001b[0m\u001b[1;33m\u001b[0m\u001b[1;33m\u001b[0m\u001b[0m\n",
            "\u001b[1;32mD:\\Programs\\Python\\lib\\site-packages\\flask\\app.py\u001b[0m in \u001b[0;36madd_url_rule\u001b[1;34m(self, rule, endpoint, view_func, provide_automatic_options, **options)\u001b[0m\n\u001b[0;32m   1090\u001b[0m             \u001b[0mold_func\u001b[0m \u001b[1;33m=\u001b[0m \u001b[0mself\u001b[0m\u001b[1;33m.\u001b[0m\u001b[0mview_functions\u001b[0m\u001b[1;33m.\u001b[0m\u001b[0mget\u001b[0m\u001b[1;33m(\u001b[0m\u001b[0mendpoint\u001b[0m\u001b[1;33m)\u001b[0m\u001b[1;33m\u001b[0m\u001b[1;33m\u001b[0m\u001b[0m\n\u001b[0;32m   1091\u001b[0m             \u001b[1;32mif\u001b[0m \u001b[0mold_func\u001b[0m \u001b[1;32mis\u001b[0m \u001b[1;32mnot\u001b[0m \u001b[1;32mNone\u001b[0m \u001b[1;32mand\u001b[0m \u001b[0mold_func\u001b[0m \u001b[1;33m!=\u001b[0m \u001b[0mview_func\u001b[0m\u001b[1;33m:\u001b[0m\u001b[1;33m\u001b[0m\u001b[1;33m\u001b[0m\u001b[0m\n\u001b[1;32m-> 1092\u001b[1;33m                 raise AssertionError(\n\u001b[0m\u001b[0;32m   1093\u001b[0m                     \u001b[1;34m\"View function mapping is overwriting an existing\"\u001b[0m\u001b[1;33m\u001b[0m\u001b[1;33m\u001b[0m\u001b[0m\n\u001b[0;32m   1094\u001b[0m                     \u001b[1;34mf\" endpoint function: {endpoint}\"\u001b[0m\u001b[1;33m\u001b[0m\u001b[1;33m\u001b[0m\u001b[0m\n",
            "\u001b[1;31mAssertionError\u001b[0m: View function mapping is overwriting an existing endpoint function: home_page"
          ]
        }
      ]
    },
    {
      "cell_type": "code",
      "execution_count": null,
      "metadata": {},
      "outputs": [],
      "source": []
    }
  ]
}